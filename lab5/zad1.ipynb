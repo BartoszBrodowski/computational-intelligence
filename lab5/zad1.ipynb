{
 "cells": [
  {
   "attachments": {},
   "cell_type": "markdown",
   "metadata": {},
   "source": [
    "All imports"
   ]
  },
  {
   "cell_type": "code",
   "execution_count": 3,
   "metadata": {},
   "outputs": [
    {
     "ename": "ModuleNotFoundError",
     "evalue": "No module named 'sklearn'",
     "output_type": "error",
     "traceback": [
      "\u001b[1;31m---------------------------------------------------------------------------\u001b[0m",
      "\u001b[1;31mModuleNotFoundError\u001b[0m                       Traceback (most recent call last)",
      "Cell \u001b[1;32mIn[3], line 2\u001b[0m\n\u001b[0;32m      1\u001b[0m \u001b[39mimport\u001b[39;00m \u001b[39mpandas\u001b[39;00m \u001b[39mas\u001b[39;00m \u001b[39mpd\u001b[39;00m\n\u001b[1;32m----> 2\u001b[0m \u001b[39mfrom\u001b[39;00m \u001b[39msklearn\u001b[39;00m\u001b[39m.\u001b[39;00m\u001b[39mmodel_selection\u001b[39;00m \u001b[39mimport\u001b[39;00m train_test_split\n\u001b[0;32m      3\u001b[0m \u001b[39mfrom\u001b[39;00m \u001b[39msklearn\u001b[39;00m \u001b[39mimport\u001b[39;00m tree\n",
      "\u001b[1;31mModuleNotFoundError\u001b[0m: No module named 'sklearn'"
     ]
    }
   ],
   "source": [
    "import pandas as pd\n",
    "from sklearn.model_selection import train_test_split\n",
    "from sklearn import tree\n",
    "from sklearn.neighbors import KNeighborsClassifier\n",
    "from sklearn.metrics import confusion_matrix, accuracy_score\n",
    "from sklearn.naive_bayes import GaussianNB\n",
    "import matplotlib.pyplot as plt\n",
    "import seaborn as sns"
   ]
  },
  {
   "attachments": {},
   "cell_type": "markdown",
   "metadata": {},
   "source": [
    "Setup OS paths to CSV file"
   ]
  },
  {
   "cell_type": "code",
   "execution_count": null,
   "metadata": {},
   "outputs": [],
   "source": [
    "windows_path = \"C:\\\\Users\\\\Admin\\\\Desktop\\\\Programowanie\\\\2Rok\\\\4Semestr\\\\inteligencja_obliczeniowa\\\\lab5\\\\iris.csv\""
   ]
  },
  {
   "attachments": {},
   "cell_type": "markdown",
   "metadata": {},
   "source": [
    "Setup CSV and training/testing sets based on the csv"
   ]
  },
  {
   "cell_type": "code",
   "execution_count": null,
   "metadata": {},
   "outputs": [],
   "source": [
    "df = pd.read_csv(windows_path)\n",
    "\n",
    "(train_set, test_set) = train_test_split(df.values, train_size=0.7, random_state=278830)\n",
    "\n",
    "print(test_set)\n",
    "print(test_set.shape[0])"
   ]
  },
  {
   "attachments": {},
   "cell_type": "markdown",
   "metadata": {},
   "source": [
    "Define inputs"
   ]
  },
  {
   "cell_type": "code",
   "execution_count": null,
   "metadata": {},
   "outputs": [],
   "source": [
    "train_inputs = train_set[:, 0:4]\n",
    "train_classes = train_set[:, 4]\n",
    "test_inputs = test_set[:, 0:4]\n",
    "test_classes = test_set[:, 4]"
   ]
  },
  {
   "attachments": {},
   "cell_type": "markdown",
   "metadata": {},
   "source": [
    "Function to classify the flowers"
   ]
  },
  {
   "cell_type": "code",
   "execution_count": null,
   "metadata": {},
   "outputs": [],
   "source": [
    "def classify_iris(sl, sw, pl, pw):\n",
    "    if sl <= 5.8 and sl >= 4.3 and sw > 2.3 and sw < 4.4 and pl >= 1.0 and pl <= 1.9 and pw >= 0.1 and pw <= 0.6:\n",
    "        return(\"setosa\")\n",
    "    elif sl >= 4.9 and sl <= 7.0 and sw >= 2.0 and sw <= 3.4 and pl >= 3.0 and pl <= 5.1 and pw >= 1.0 and pw <= 1.8: \n",
    "        return(\"versicolor\")\n",
    "    elif sl >= 4.9 and sl <= 7.9 and sw >= 2.2 and sw <= 3.8 and pl >= 4.5 and pl <= 6.9 and pw >= 1.4 and pw <= 2.5:\n",
    "        return(\"virginica\")"
   ]
  },
  {
   "attachments": {},
   "cell_type": "markdown",
   "metadata": {},
   "source": [
    "Test highest and lowest values for every parameter for every species"
   ]
  },
  {
   "cell_type": "code",
   "execution_count": null,
   "metadata": {},
   "outputs": [],
   "source": [
    "good_predictions = 0\n",
    "length = test_set.shape[0]\n",
    "\n",
    "# This changed, values in classify_iris function were changed manually\n",
    "lista = df.values[100:150, 3]\n",
    "\n",
    "lowest_value = 10\n",
    "highest_value = 0\n",
    "\n",
    "for i in range(len(lista)):\n",
    "    if lista[i] < lowest_value:\n",
    "        lowest_value = lista[i]\n",
    "    if lista[i] > highest_value:\n",
    "        highest_value = lista[i]"
   ]
  },
  {
   "attachments": {},
   "cell_type": "markdown",
   "metadata": {},
   "source": [
    "For loop to test how many records are guessed correctly"
   ]
  },
  {
   "cell_type": "code",
   "execution_count": null,
   "metadata": {},
   "outputs": [],
   "source": [
    "for i in range(length):\n",
    "    if classify_iris(test_set[i][0], test_set[i][1], test_set[i][2], test_set[i][3]) == test_set[i, 4]:\n",
    "        good_predictions = good_predictions + 1\n",
    "\n",
    "print(good_predictions)\n",
    "print(good_predictions/length*100, \"%\")"
   ]
  },
  {
   "attachments": {},
   "cell_type": "markdown",
   "metadata": {},
   "source": [
    "Decision tree from sklearn package"
   ]
  },
  {
   "cell_type": "code",
   "execution_count": null,
   "metadata": {},
   "outputs": [],
   "source": [
    "clf = tree.DecisionTreeClassifier(criterion='entropy', max_depth=2, random_state=278830)\n",
    "clf = clf.fit(train_set[:, 0:4], train_set[:, 4])\n",
    "\n",
    "good_predictions = 0\n",
    "length = test_set.shape[0]\n",
    "\n",
    "for i in range(length):\n",
    "    if clf.predict([test_set[i][0:4]]) == test_set[i, 4]:\n",
    "        good_predictions = good_predictions + 1\n",
    "\n",
    "y_true = test_set[:, 4]\n",
    "y_pred = clf.predict(test_set[:, 0:4])\n",
    "\n",
    "cm = confusion_matrix(y_true, y_pred)\n",
    "\n",
    "train_inputs = train_set[:, 0:4]\n",
    "train_classes = train_set[:, 4]\n",
    "test_inputs = test_set[:, 0:4]\n",
    "test_classes = test_set[:, 4]\n",
    "\n",
    "cm_df = pd.DataFrame(cm,\n",
    "                     index = ['setosa','versicolor','virginica'], \n",
    "                     columns = ['setosa','versicolor','virginica'])\n",
    "\n",
    "plt.figure(figsize=(5.5,4))\n",
    "sns.heatmap(cm_df, annot=True)\n",
    "plt.title('Fit of function (Decision Tree) \\nAccuracy:{0:.3f}'.format(accuracy_score(test_classes, y_pred)))\n",
    "plt.ylabel('True label')\n",
    "plt.xlabel('Predicted label')\n",
    "plt.show()"
   ]
  },
  {
   "attachments": {},
   "cell_type": "markdown",
   "metadata": {},
   "source": [
    "The result is more precise than the manual made function. If the DecisionTreeCalssifier is given no arugments, then the result is slightly less precise. With the arguments it's able to guess with 97.(77)% accuracy"
   ]
  },
  {
   "attachments": {},
   "cell_type": "markdown",
   "metadata": {},
   "source": [
    "K-Neighbors method (3 neighbors)"
   ]
  },
  {
   "cell_type": "code",
   "execution_count": null,
   "metadata": {},
   "outputs": [],
   "source": [
    "knn = KNeighborsClassifier(n_neighbors=3, metric='euclidean')\n",
    "knn.fit(train_inputs,train_classes)\n",
    "\n",
    "result_of_prediction = knn.predict(test_inputs)\n",
    "result_of_prediction\n",
    "cm = confusion_matrix(test_classes,result_of_prediction)\n",
    "cm_df = pd.DataFrame(cm,\n",
    "                     index = ['setosa','versicolor','virginica'], \n",
    "                     columns = ['setosa','versicolor','virginica'])\n",
    "\n",
    "plt.figure(figsize=(5.5,4))\n",
    "sns.heatmap(cm_df, annot=True)\n",
    "plt.title('Fit of function (3 Neighbors) \\nAccuracy:{0:.3f}'.format(accuracy_score(test_classes, result_of_prediction)))\n",
    "plt.ylabel('True label')\n",
    "plt.xlabel('Predicted label')\n",
    "plt.show()"
   ]
  },
  {
   "attachments": {},
   "cell_type": "markdown",
   "metadata": {},
   "source": [
    "K-Neighbors method (5 neighbors)"
   ]
  },
  {
   "cell_type": "code",
   "execution_count": 1,
   "metadata": {},
   "outputs": [
    {
     "ename": "NameError",
     "evalue": "name 'KNeighborsClassifier' is not defined",
     "output_type": "error",
     "traceback": [
      "\u001b[1;31m---------------------------------------------------------------------------\u001b[0m",
      "\u001b[1;31mNameError\u001b[0m                                 Traceback (most recent call last)",
      "Cell \u001b[1;32mIn[1], line 1\u001b[0m\n\u001b[1;32m----> 1\u001b[0m knn \u001b[39m=\u001b[39m KNeighborsClassifier(n_neighbors\u001b[39m=\u001b[39m\u001b[39m5\u001b[39m, metric\u001b[39m=\u001b[39m\u001b[39m'\u001b[39m\u001b[39meuclidean\u001b[39m\u001b[39m'\u001b[39m)\n\u001b[0;32m      2\u001b[0m result_of_prediction \u001b[39m=\u001b[39m knn\u001b[39m.\u001b[39mpredict(test_inputs)\n\u001b[0;32m      3\u001b[0m result_of_prediction\n",
      "\u001b[1;31mNameError\u001b[0m: name 'KNeighborsClassifier' is not defined"
     ]
    }
   ],
   "source": [
    "knn = KNeighborsClassifier(n_neighbors=5, metric='euclidean')\n",
    "result_of_prediction = knn.predict(test_inputs)\n",
    "result_of_prediction\n",
    "cm = confusion_matrix(test_classes,result_of_prediction)\n",
    "cm_df = pd.DataFrame(cm,\n",
    "                     index = ['setosa','versicolor','virginica'], \n",
    "                     columns = ['setosa','versicolor','virginica'])\n",
    "\n",
    "plt.figure(figsize=(5.5,4))\n",
    "sns.heatmap(cm_df, annot=True)\n",
    "plt.title('Dopasowanie fukncja fit \\nAccuracy:{0:.3f}'.format(accuracy_score(test_classes, result_of_prediction)))\n",
    "plt.ylabel('True label')\n",
    "plt.xlabel('Predicted label')\n",
    "plt.show()\n",
    "\n",
    "clf = KNeighborsClassifier(n_neighbors=11)\n",
    "clf = clf.fit(train_set[:, 0:4], train_set[:, 4])\n"
   ]
  },
  {
   "attachments": {},
   "cell_type": "markdown",
   "metadata": {},
   "source": [
    "K-Neighbors method (5 neighbors)"
   ]
  },
  {
   "cell_type": "code",
   "execution_count": null,
   "metadata": {},
   "outputs": [],
   "source": [
    "clf = KNeighborsClassifier(n_neighbors=11)\n",
    "clf = clf.fit(train_inputs, train_classes)\n",
    "\n",
    "result_of_prediction = knn.predict(test_inputs)\n",
    "result_of_prediction\n",
    "cm = confusion_matrix(test_classes,result_of_prediction)\n",
    "cm_df = pd.DataFrame(cm,\n",
    "                     index = ['setosa','versicolor','virginica'], \n",
    "                     columns = ['setosa','versicolor','virginica'])\n",
    "\n",
    "plt.figure(figsize=(5.5,4))\n",
    "sns.heatmap(cm_df, annot=True)\n",
    "plt.title('Fit of function (11 Neighbors) \\nAccuracy:{0:.3f}'.format(accuracy_score(test_classes, result_of_prediction)))\n",
    "plt.ylabel('True label')\n",
    "plt.xlabel('Predicted label')\n",
    "plt.show()"
   ]
  },
  {
   "cell_type": "code",
   "execution_count": null,
   "metadata": {},
   "outputs": [],
   "source": []
  },
  {
   "attachments": {},
   "cell_type": "markdown",
   "metadata": {},
   "source": [
    "### For 3 neighbors the result is 97% accuracy, for 5 and 11 it goes up to 100% accuracy"
   ]
  },
  {
   "attachments": {},
   "cell_type": "markdown",
   "metadata": {},
   "source": [
    "Bayes method"
   ]
  },
  {
   "cell_type": "code",
   "execution_count": null,
   "metadata": {},
   "outputs": [],
   "source": [
    "gnb = GaussianNB()\n",
    "\n",
    "gnb.fit(train_inputs,train_classes)\n",
    "\n",
    "y_pred = gnb.fit(train_set[:, 0:4], train_set[:, 4]).predict(test_set[:, 0:4])\n",
    "\n",
    "cm = confusion_matrix(test_classes,result_of_prediction)\n",
    "cm_df = pd.DataFrame(cm,\n",
    "                     index = ['setosa','versicolor','virginica'], \n",
    "                     columns = ['setosa','versicolor','virginica'])\n",
    "\n",
    "plt.figure(figsize=(5.5,4))\n",
    "sns.heatmap(cm_df, annot=True)\n",
    "plt.title('Fit of function (Bayes) \\nAccuracy:{0:.3f}'.format(accuracy_score(test_classes, result_of_prediction)))\n",
    "plt.ylabel('True label')\n",
    "plt.xlabel('Predicted label')\n",
    "plt.show()"
   ]
  },
  {
   "attachments": {},
   "cell_type": "markdown",
   "metadata": {},
   "source": [
    "## Results\n",
    "\n",
    "DD - 97,7% accuracy\n",
    "3NN - 97,7% accuracy\n",
    "5NN - 100% accuracy\n",
    "11NN - 100% accuracy\n",
    "NB - 100% accuracy"
   ]
  }
 ],
 "metadata": {
  "kernelspec": {
   "display_name": "Python 3",
   "language": "python",
   "name": "python3"
  },
  "language_info": {
   "codemirror_mode": {
    "name": "ipython",
    "version": 3
   },
   "file_extension": ".py",
   "mimetype": "text/x-python",
   "name": "python",
   "nbconvert_exporter": "python",
   "pygments_lexer": "ipython3",
   "version": "3.9.7"
  },
  "orig_nbformat": 4
 },
 "nbformat": 4,
 "nbformat_minor": 2
}
