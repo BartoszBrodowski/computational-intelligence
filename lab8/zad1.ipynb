{
 "cells": [
  {
   "cell_type": "code",
   "execution_count": 62,
   "metadata": {},
   "outputs": [],
   "source": [
    "from nltk.tokenize import sent_tokenize, word_tokenize\n",
    "from nltk.corpus import stopwords\n",
    "from nltk.stem import WordNetLemmatizer\n",
    "import nltk\n",
    "\n",
    "# nltk.download('stopwords')  \n",
    "# nltk.download('punkt')\n",
    "# nltk.download('wordnet')"
   ]
  },
  {
   "cell_type": "code",
   "execution_count": 63,
   "metadata": {},
   "outputs": [
    {
     "name": "stdout",
     "output_type": "stream",
     "text": [
      "Words count: 1474\n",
      "\n"
     ]
    }
   ],
   "source": [
    "with open(\"article.txt\", \"r\") as article:\n",
    "  data = article.read()\n",
    "  tokenized_data = word_tokenize(data, \"english\")\n",
    "  print(\"Words count: \" + str(len(tokenized_data)))\n",
    "  print()"
   ]
  },
  {
   "cell_type": "code",
   "execution_count": 64,
   "metadata": {},
   "outputs": [
    {
     "name": "stdout",
     "output_type": "stream",
     "text": [
      "['There', 'election', 'fever', 'ancient', 'city', 'Antakya', 'southern', 'Turkey', 'rubble', 'torment', 'What', 'I', 'want', 'ballot', 'box', 'dead', 'body', 'nothing', 'else', 'says', 'Fethiye', 'Keklik', 'Our', 'souls', 'ripped', 'away', 'He', 'use', 'us', 'The', 'grandmother', 'referring', 'Turkey', 'President', 'Recep', 'Tayyip', 'Erdogan', 'Insulting', 'president', 'get', 'jailed', 'wo', 'silenced', 'He', 'brings', 'harm', 'I', 'thinking', 'burning', 'ballot', 'paper', 'front', 'police', 'soldiers', 'Turkey', 'Islamist', 'leader', 'looking', 'vulnerable', 'never', 'upcoming', 'elections', 'parliament', 'presidency', 'May', 'The', 'end', 'authoritarian', 'Erdogan', 'era', 'comes', 'mean', 'freer', 'democratic', 'Turkey', 'Jails', 'may', 'less', 'crowded', 'relations', 'West', 'less', 'fraught', 'In', 'polls', 'Turks', 'much', 'complain', 'grieve', 'state', 'slow', 'response', 'February', 'earthquakes', 'economy', 'ruins', 'The', 'official', 'inflation', 'rate', 'The', 'real', 'figure', 'could', 'twice', 'Experts', 'blame', 'president', 'economic', 'policies', 'politely', 'described', 'unorthodox', 'Here', 'southern', 'Turkey', 'politics', 'economics', 'overshadowed', 'death', 'The', 'official', 'toll', 'worst', 'natural', 'disaster', 'modern', 'Turkish', 'history', 'Many', 'believe', 'real', 'figure', 'much', 'higher', 'government', 'stopped', 'counting', 'Fethiye', 'count', 'four', 'We', 'find', 'bleak', 'roadside', 'cemetery', 'grief', 'rends', 'air', 'She', 'crumpled', 'ground', 'dark', 'headscarf', 'woollen', 'cardigan', 'crying', 'son', 'Coskun', 'lies', 'beneath', 'soil', 'How', 'I', 'forget', 'wails', 'clutching', 'crude', 'wooden', 'board', 'marking', 'grave', 'Please', 'take', 'You', 'left', 'orphans', 'behind', 'I', 'brought', 'Eren', 'see', 'At', 'mention', 'name', 'grandson', 'comes', 'console', 'squatting', 'grave', 'give', 'hug', 'Your', 'father', 'lying', 'tells', 'No', 'Papa', 'says', 'Eren', 'firmly', 'The', 'sombre', 'little', 'boy', 'dark', 'blue', 'anorak', 'raised', 'scar', 'forehead', 'imprinted', 'quakes', 'Fethiye', 'cradled', 'arms', 'rubble', 'eight', 'hours', 'pulled', 'free', 'Turkish', 'rescue', 'workers', 'neighbours', 'Syrian', 'refugees', 'The', 'family', 'lost', 'Eren', 'father', 'brother', 'sister', 'nephew', 'four', 'lie', 'buried', 'row', 'Fethiye', 'blames', 'corrupt', 'officials', 'cowboy', 'builders', 'President', 'Recep', 'Tayyip', 'Erdogan', 'In', 'first', 'place', 'says', 'gave', 'opportunity', 'people', 'The', 'developers', 'bribe', 'municipalities', 'build', 'They', 'bribe', 'build', 'They', 'killed', 'us', 'The', 'earthquakes', 'exposed', 'structural', 'faults', 'President', 'Erdogan', 'long', 'rule', 'He', 'presided', 'repeated', 'amnesties', 'illegal', 'construction', 'Developers', 'could', 'build', 'death', 'trap', 'pay', 'fine', 'And', 'state', 'hollowed', 'critics', 'say', 'resulting', 'lack', 'proper', 'oversight', 'preparedness', 'Walk', 'remains', 'Antakya', 'crucible', 'civilisations', 'religions', 'see', 'consequences', 'Centuries', 'history', 'reduced', 'patchwork', 'ruins', 'empty', 'spaces', 'Outside', 'one', 'collapsed', 'house', 'chunky', 'grey', 'armchair', 'remains', 'intact', 'owner', 'might', 'come', 'back', 'take', 'seat', 'Some', 'blocks', 'upended', 'others', 'ripped', 'open', 'like', 'grotesque', 'dolls', 'houses', 'Almost', 'every', 'conversation', 'punctuated', 'stories', 'dead', 'many', 'perished', 'waiting', 'help', 'never', 'came', 'But', 'deeply', 'polarised', 'country', 'earthquakes', 'another', 'fissure', 'Supporters', 'president', 'many', 'echo', 'view', 'destiny', 'Among', 'religious', 'conservative', 'support', 'base', 'leadership', 'remains', 'article', 'faith', 'We', 'come', 'across', 'Ibrahim', 'Sener', 'sitting', 'ruins', 'Zumrut', 'Street', 'Antakya', 'old', 'city', 'among', 'shards', 'glass', 'jagged', 'metal', 'The', 'seems', 'notice', 'lost', 'thought', 'cigarette', 'smoke', 'Our', 'house', 'cracked', 'end', 'end', 'tells', 'us', 'We', 'lived', 'biggest', 'nightmare', 'inside', 'house', 'We', 'ca', 'happy', 'survived', 'lost', 'family', 'friends', 'There', 'phone', 'lines', 'internet', 'could', 'help', 'anyone', 'After', 'five', 'six', 'hours', 'I', 'got', 'news', 'brother', 'died', 'His', 'belief', 'president', 'unshaken', 'It', 'came', 'God', 'says', 'It', 'God', 'happened', 'This', 'politicised', 'It', 'president', 'created', 'earthquake', 'Our', 'president', 'best', 'Ibrahim', 'goes', 'way', 'two', 'women', 'remain', 'across', 'road', 'Gozde', 'Burgac', 'aunt', 'Suheyla', 'Kilic', 'actresses', 'Gozde', 'tattoo', 'arm', 'life', 'beautiful', 'written', 'French', 'In', 'new', 'landscape', 'rubble', 'reads', 'like', 'mockery', 'They', 'came', 'area', 'feed', 'stray', 'cats', 'enduring', 'Turkish', 'tradition', 'even', 'worst', 'times', 'And', 'listened', 'Ibrahim', 'account', 'disbelief', 'agony', 'What', 'I', 'heard', 'really', 'offended', 'nobody', 'helped', 'us', 'way', 'says', 'Gozde', 'close', 'tears', 'Were', 'different', 'universe', 'What', 'said', 'Erdogan', 'definitely', 'true', 'It', 'fault', 'The', 'government', 'ones', 'obliged', 'help', 'us', 'nobody', 'With', 'efforts', 'means', 'tried', 'reach', 'families', 'first', 'hours', 'earthquake', 'We', 'reached', 'dead', 'bodies', 'hours', 'later', 'days', 'later', 'Gozde', 'says', 'officials', 'presidency', 'showed', 'brought', 'alive', 'She', 'says', 'rescued', 'Italian', 'team', 'government', 'officials', 'pose', 'cameras', 'uniforms', 'visible', 'Then', 'left', 'nobody', 'else', 'came', 'says', 'The', 'women', 'mourning', 'three', 'relatives', 'treasured', 'mosaic', 'city', 'Will', 'death', 'destruction', 'shift', 'needle', 'election', 'day', 'The', 'answer', 'may', 'Polls', 'taken', 'quakes', 'suggested', 'minor', 'drop', 'support', 'president', 'apologised', 'state', 'sluggish', 'response', 'He', 'also', 'promised', 'ambitious', 'implausible', 'reconstruction', 'programme', 'It', 'wo', 'affect', 'Erdogan', 'according', 'political', 'analyst', 'pollster', 'Can', 'Selcuki', 'This', 'election', 'performance', 'It', 'identity', 'Those', 'want', 'want', 'matter', 'After', 'two', 'decades', 'power', 'Turkish', 'leader', 'serious', 'challenger', 'Kemal', 'Kilicdaroglu', 'Opinion', 'polls', 'give', 'slight', 'lead', 'Kilicdaroglu', 'famed', 'making', 'election', 'videos', 'sitting', 'table', 'modest', 'kitchen', 'But', 'many', 'writing', 'president', 'yet', 'That', 'includes', 'Mayor', 'Antakya', 'Lutfu', 'Savas', 'Kilicdaroglu', 'party', 'We', 'meet', 'cluster', 'temporary', 'buildings', 'serve', 'office', 'He', 'Erdogan', 'leader', 'political', 'party', 'able', 'stay', 'power', 'years', 'says', 'longer', 'anyone', 'else', 'even', 'Turkey', 'founding', 'father', 'Kemal', 'Ataturk', 'Despite', 'difficulties', 'economic', 'social', 'resulting', 'earthquake', 'knows', 'use', 'politics', 'instruments', 'state', 'victory']\n",
      "701\n"
     ]
    }
   ],
   "source": [
    "stop_words = set(stopwords.words('english'))\n",
    "\n",
    "filtered_article = [word for word in tokenized_data if not word.lower() in stop_words]\n",
    "filtered_article = []\n",
    "  \n",
    "for w in tokenized_data:\n",
    "    # Deleting not alphabetic words\n",
    "    if w not in stop_words and w.isalpha():\n",
    "        filtered_article.append(w)\n",
    "\n",
    "print(filtered_article)\n",
    "print(len(filtered_article))"
   ]
  },
  {
   "cell_type": "code",
   "execution_count": 65,
   "metadata": {},
   "outputs": [],
   "source": [
    "lemmatizer = WordNetLemmatizer()\n",
    "\n",
    "lemmatized_filtered_article = []\n",
    "for word in filtered_article:\n",
    "  lemmatized_filtered_article.append(lemmatizer.lemmatize(word))"
   ]
  },
  {
   "cell_type": "code",
   "execution_count": 66,
   "metadata": {},
   "outputs": [
    {
     "data": {
      "image/png": "[encoded data removed]",
      "text/plain": [
       "<Figure size 640x480 with 1 Axes>"
      ]
     },
     "metadata": {},
     "output_type": "display_data"
    }
   ],
   "source": [
    "from collections import Counter\n",
    "import matplotlib.pyplot as plt\n",
    "\n",
    "# Wektor zliczający słowa\n",
    "word_count = Counter(lemmatized_filtered_article)\n",
    "\n",
    "# Wybór 10 najczęściej występujących słów\n",
    "top_words = word_count.most_common(10)\n",
    "\n",
    "# Przygotowanie danych do wykresu słupkowego\n",
    "labels = [word[0] for word in top_words]\n",
    "values = [word[1] for word in top_words]\n",
    "\n",
    "# Wykres słupkowy\n",
    "plt.bar(labels, values)\n",
    "plt.xticks(rotation=45)\n",
    "\n",
    "# Wyświetlenie wykresu\n",
    "plt.show()\n"
   ]
  },
  {
   "cell_type": "code",
   "execution_count": 67,
   "metadata": {},
   "outputs": [
    {
     "ename": "ModuleNotFoundError",
     "evalue": "No module named 'wordcloud'",
     "output_type": "error",
     "traceback": [
      "\u001b[1;31m---------------------------------------------------------------------------\u001b[0m",
      "\u001b[1;31mModuleNotFoundError\u001b[0m                       Traceback (most recent call last)",
      "Cell \u001b[1;32mIn[67], line 1\u001b[0m\n\u001b[1;32m----> 1\u001b[0m \u001b[39mfrom\u001b[39;00m \u001b[39mwordcloud\u001b[39;00m \u001b[39mimport\u001b[39;00m WordCloud\n\u001b[0;32m      2\u001b[0m \u001b[39mimport\u001b[39;00m \u001b[39mmatplotlib\u001b[39;00m\u001b[39m.\u001b[39;00m\u001b[39mpyplot\u001b[39;00m \u001b[39mas\u001b[39;00m \u001b[39mplt\u001b[39;00m\n\u001b[0;32m      4\u001b[0m \u001b[39m# Konwersja listy słów na tekst\u001b[39;00m\n",
      "\u001b[1;31mModuleNotFoundError\u001b[0m: No module named 'wordcloud'"
     ]
    }
   ],
   "source": [
    "from collections import Counter\n",
    "from pytagcloud import create_tag_image, make_tags, LAYOUT_HORIZONTAL\n",
    "import matplotlib.pyplot as plt\n",
    "\n",
    "# Obliczenie liczby wystąpień każdego słowa w tekście\n",
    "word_freq = Counter(lemmatized_filtered_article)\n",
    "\n",
    "# Stworzenie listy tagów na podstawie liczby wystąpień słów\n",
    "tags = make_tags(word_freq.items(), maxsize=80)\n",
    "\n",
    "# Utworzenie obrazu chmury tagów\n",
    "create_tag_image(tags, \"wordcloud.png\", size=(800, 800), layout=LAYOUT_HORIZONTAL, fontname=\"Lobster\")\n",
    "\n",
    "# Wyświetlenie wygenerowanej chmury tagów\n",
    "plt.imshow(plt.imread(\"wordcloud.png\"))\n",
    "plt.axis(\"off\")\n",
    "plt.show()\n"
   ]
  }
 ],
 "metadata": {
  "kernelspec": {
   "display_name": "Python 3",
   "language": "python",
   "name": "python3"
  },
  "language_info": {
   "codemirror_mode": {
    "name": "ipython",
    "version": 3
   },
   "file_extension": ".py",
   "mimetype": "text/x-python",
   "name": "python",
   "nbconvert_exporter": "python",
   "pygments_lexer": "ipython3",
   "version": "3.11.2"
  },
  "orig_nbformat": 4
 },
 "nbformat": 4,
 "nbformat_minor": 2
}
