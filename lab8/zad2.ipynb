{
 "cells": [
  {
   "cell_type": "code",
   "execution_count": 21,
   "metadata": {},
   "outputs": [
    {
     "name": "stderr",
     "output_type": "stream",
     "text": [
      "[nltk_data] Downloading package vader_lexicon to\n",
      "[nltk_data]     C:\\Users\\Admin\\AppData\\Roaming\\nltk_data...\n",
      "[nltk_data]   Package vader_lexicon is already up-to-date!\n"
     ]
    },
    {
     "data": {
      "text/plain": [
       "True"
      ]
     },
     "execution_count": 21,
     "metadata": {},
     "output_type": "execute_result"
    }
   ],
   "source": [
    "import nltk\n",
    "from nltk.sentiment.vader import SentimentIntensityAnalyzer\n",
    "\n",
    "nltk.download('vader_lexicon')"
   ]
  },
  {
   "cell_type": "code",
   "execution_count": 22,
   "metadata": {},
   "outputs": [],
   "source": [
    "with open(\"negative_opinion.txt\", \"r\") as negative:\n",
    "    negative_opinion = negative.read()\n",
    "\n",
    "with open(\"positive_opinion.txt\", \"r\") as positive:\n",
    "    positive_opinion = positive.read()"
   ]
  },
  {
   "cell_type": "code",
   "execution_count": 23,
   "metadata": {},
   "outputs": [
    {
     "name": "stdout",
     "output_type": "stream",
     "text": [
      "{'neg': 0.087, 'neu': 0.913, 'pos': 0.0, 'compound': -0.9727}\n",
      "{'neg': 0.025, 'neu': 0.666, 'pos': 0.309, 'compound': 0.9838}\n"
     ]
    }
   ],
   "source": [
    "sid = SentimentIntensityAnalyzer()\n",
    "\n",
    "print(sid.polarity_scores(negative_opinion))\n",
    "print(sid.polarity_scores(positive_opinion))"
   ]
  },
  {
   "cell_type": "code",
   "execution_count": 24,
   "metadata": {},
   "outputs": [
    {
     "ename": "AttributeError",
     "evalue": "module 'emoji' has no attribute 'UNICODE_EMOJI'",
     "output_type": "error",
     "traceback": [
      "\u001b[1;31m---------------------------------------------------------------------------\u001b[0m",
      "\u001b[1;31mAttributeError\u001b[0m                            Traceback (most recent call last)",
      "Cell \u001b[1;32mIn[24], line 3\u001b[0m\n\u001b[0;32m      1\u001b[0m \u001b[39mimport\u001b[39;00m \u001b[39mtext2emotion\u001b[39;00m \u001b[39mas\u001b[39;00m \u001b[39mte\u001b[39;00m\n\u001b[1;32m----> 3\u001b[0m te\u001b[39m.\u001b[39;49mget_emotion(positive_opinion)\n",
      "File \u001b[1;32mc:\\Users\\Admin\\AppData\\Local\\Programs\\Python\\Python311\\Lib\\site-packages\\text2emotion\\__init__.py:2716\u001b[0m, in \u001b[0;36mget_emotion\u001b[1;34m(input)\u001b[0m\n\u001b[0;32m   2713\u001b[0m     \u001b[39m# print(clean_text)\u001b[39;00m\n\u001b[0;32m   2714\u001b[0m     \u001b[39mreturn\u001b[39;00m clean_text\n\u001b[1;32m-> 2716\u001b[0m text \u001b[39m=\u001b[39m cleaning(\u001b[39minput\u001b[39;49m)\u001b[39m.\u001b[39msplit()\n\u001b[0;32m   2717\u001b[0m emotion_values \u001b[39m=\u001b[39m []\n\u001b[0;32m   2718\u001b[0m emotions \u001b[39m=\u001b[39m {\u001b[39m\"\u001b[39m\u001b[39mHappy\u001b[39m\u001b[39m\"\u001b[39m: \u001b[39m0\u001b[39m, \u001b[39m\"\u001b[39m\u001b[39mAngry\u001b[39m\u001b[39m\"\u001b[39m: \u001b[39m0\u001b[39m, \u001b[39m\"\u001b[39m\u001b[39mSurprise\u001b[39m\u001b[39m\"\u001b[39m: \u001b[39m0\u001b[39m, \u001b[39m\"\u001b[39m\u001b[39mSad\u001b[39m\u001b[39m\"\u001b[39m: \u001b[39m0\u001b[39m, \u001b[39m\"\u001b[39m\u001b[39mFear\u001b[39m\u001b[39m\"\u001b[39m: \u001b[39m0\u001b[39m}\n",
      "File \u001b[1;32mc:\\Users\\Admin\\AppData\\Local\\Programs\\Python\\Python311\\Lib\\site-packages\\text2emotion\\__init__.py:2700\u001b[0m, in \u001b[0;36mget_emotion.<locals>.cleaning\u001b[1;34m(text)\u001b[0m\n\u001b[0;32m   2698\u001b[0m \u001b[39mdef\u001b[39;00m \u001b[39mcleaning\u001b[39m(text):\n\u001b[0;32m   2699\u001b[0m     text \u001b[39m=\u001b[39m text\u001b[39m.\u001b[39mlower()\n\u001b[1;32m-> 2700\u001b[0m     text \u001b[39m=\u001b[39m emojis_extractor(text)\n\u001b[0;32m   2701\u001b[0m     text \u001b[39m=\u001b[39m re\u001b[39m.\u001b[39msub(\u001b[39mr\u001b[39m\u001b[39m'\u001b[39m\u001b[39mhttp\u001b[39m\u001b[39m\\\u001b[39m\u001b[39mS+|www.\u001b[39m\u001b[39m\\\u001b[39m\u001b[39mS+\u001b[39m\u001b[39m'\u001b[39m, \u001b[39m'\u001b[39m\u001b[39m'\u001b[39m, text)\n\u001b[0;32m   2702\u001b[0m     text \u001b[39m=\u001b[39m removing_contradictions(text)\n",
      "File \u001b[1;32mc:\\Users\\Admin\\AppData\\Local\\Programs\\Python\\Python311\\Lib\\site-packages\\text2emotion\\__init__.py:2569\u001b[0m, in \u001b[0;36mget_emotion.<locals>.emojis_extractor\u001b[1;34m(text)\u001b[0m\n\u001b[0;32m   2078\u001b[0m \u001b[39mdef\u001b[39;00m \u001b[39memojis_extractor\u001b[39m(text):\n\u001b[0;32m   2079\u001b[0m     emoj \u001b[39m=\u001b[39m {\u001b[39m'\u001b[39m\u001b[39mEmoji\u001b[39m\u001b[39m'\u001b[39m: [\u001b[39m'\u001b[39m\u001b[39m👏 🏾\u001b[39m\u001b[39m'\u001b[39m,\n\u001b[0;32m   2080\u001b[0m                       \u001b[39m'\u001b[39m\u001b[39m👏 🏼\u001b[39m\u001b[39m'\u001b[39m,\n\u001b[0;32m   2081\u001b[0m                       \u001b[39m'\u001b[39m\u001b[39m👏 🏽\u001b[39m\u001b[39m'\u001b[39m,\n\u001b[1;32m   (...)\u001b[0m\n\u001b[0;32m   2567\u001b[0m                         \u001b[39m'\u001b[39m\u001b[39mFear\u001b[39m\u001b[39m'\u001b[39m,\n\u001b[0;32m   2568\u001b[0m                         \u001b[39m'\u001b[39m\u001b[39mFear\u001b[39m\u001b[39m'\u001b[39m]}\n\u001b[1;32m-> 2569\u001b[0m     a \u001b[39m=\u001b[39m \u001b[39m\"\u001b[39;49m\u001b[39m \u001b[39;49m\u001b[39m\"\u001b[39;49m\u001b[39m.\u001b[39;49mjoin(c \u001b[39mfor\u001b[39;49;00m c \u001b[39min\u001b[39;49;00m text \u001b[39mif\u001b[39;49;00m c \u001b[39min\u001b[39;49;00m emoji\u001b[39m.\u001b[39;49mUNICODE_EMOJI)\u001b[39m.\u001b[39msplit()\n\u001b[0;32m   2570\u001b[0m     \u001b[39mfor\u001b[39;00m i \u001b[39min\u001b[39;00m a:\n\u001b[0;32m   2571\u001b[0m         \u001b[39mtry\u001b[39;00m:\n",
      "File \u001b[1;32mc:\\Users\\Admin\\AppData\\Local\\Programs\\Python\\Python311\\Lib\\site-packages\\text2emotion\\__init__.py:2569\u001b[0m, in \u001b[0;36m<genexpr>\u001b[1;34m(.0)\u001b[0m\n\u001b[0;32m   2078\u001b[0m \u001b[39mdef\u001b[39;00m \u001b[39memojis_extractor\u001b[39m(text):\n\u001b[0;32m   2079\u001b[0m     emoj \u001b[39m=\u001b[39m {\u001b[39m'\u001b[39m\u001b[39mEmoji\u001b[39m\u001b[39m'\u001b[39m: [\u001b[39m'\u001b[39m\u001b[39m👏 🏾\u001b[39m\u001b[39m'\u001b[39m,\n\u001b[0;32m   2080\u001b[0m                       \u001b[39m'\u001b[39m\u001b[39m👏 🏼\u001b[39m\u001b[39m'\u001b[39m,\n\u001b[0;32m   2081\u001b[0m                       \u001b[39m'\u001b[39m\u001b[39m👏 🏽\u001b[39m\u001b[39m'\u001b[39m,\n\u001b[1;32m   (...)\u001b[0m\n\u001b[0;32m   2567\u001b[0m                         \u001b[39m'\u001b[39m\u001b[39mFear\u001b[39m\u001b[39m'\u001b[39m,\n\u001b[0;32m   2568\u001b[0m                         \u001b[39m'\u001b[39m\u001b[39mFear\u001b[39m\u001b[39m'\u001b[39m]}\n\u001b[1;32m-> 2569\u001b[0m     a \u001b[39m=\u001b[39m \u001b[39m\"\u001b[39m\u001b[39m \u001b[39m\u001b[39m\"\u001b[39m\u001b[39m.\u001b[39mjoin(c \u001b[39mfor\u001b[39;00m c \u001b[39min\u001b[39;00m text \u001b[39mif\u001b[39;00m c \u001b[39min\u001b[39;00m emoji\u001b[39m.\u001b[39;49mUNICODE_EMOJI)\u001b[39m.\u001b[39msplit()\n\u001b[0;32m   2570\u001b[0m     \u001b[39mfor\u001b[39;00m i \u001b[39min\u001b[39;00m a:\n\u001b[0;32m   2571\u001b[0m         \u001b[39mtry\u001b[39;00m:\n",
      "\u001b[1;31mAttributeError\u001b[0m: module 'emoji' has no attribute 'UNICODE_EMOJI'"
     ]
    }
   ],
   "source": [
    "import text2emotion as te\n",
    "\n",
    "te.get_emotion(positive_opinion)"
   ]
  }
 ],
 "metadata": {
  "kernelspec": {
   "display_name": "Python 3",
   "language": "python",
   "name": "python3"
  },
  "language_info": {
   "codemirror_mode": {
    "name": "ipython",
    "version": 3
   },
   "file_extension": ".py",
   "mimetype": "text/x-python",
   "name": "python",
   "nbconvert_exporter": "python",
   "pygments_lexer": "ipython3",
   "version": "3.11.2"
  },
  "orig_nbformat": 4
 },
 "nbformat": 4,
 "nbformat_minor": 2
}
