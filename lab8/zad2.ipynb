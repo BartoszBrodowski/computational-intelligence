{
 "cells": [
  {
   "cell_type": "code",
   "execution_count": 21,
   "metadata": {},
   "outputs": [
    {
     "name": "stderr",
     "output_type": "stream",
     "text": [
      "[nltk_data] Downloading package vader_lexicon to\n",
      "[nltk_data]     C:\\Users\\barto\\AppData\\Roaming\\nltk_data...\n",
      "[nltk_data]   Package vader_lexicon is already up-to-date!\n"
     ]
    },
    {
     "data": {
      "text/plain": [
       "True"
      ]
     },
     "execution_count": 21,
     "metadata": {},
     "output_type": "execute_result"
    }
   ],
   "source": [
    "import nltk\n",
    "from nltk.sentiment.vader import SentimentIntensityAnalyzer\n",
    "\n",
    "nltk.download('vader_lexicon')"
   ]
  },
  {
   "cell_type": "code",
   "execution_count": 22,
   "metadata": {},
   "outputs": [],
   "source": [
    "with open(\"negative_opinion.txt\", \"r\") as negative:\n",
    "    negative_opinion = negative.read()\n",
    "\n",
    "with open(\"positive_opinion.txt\", \"r\") as positive:\n",
    "    positive_opinion = positive.read()"
   ]
  },
  {
   "cell_type": "code",
   "execution_count": 23,
   "metadata": {},
   "outputs": [
    {
     "name": "stdout",
     "output_type": "stream",
     "text": [
      "{'neg': 0.108, 'neu': 0.892, 'pos': 0.0, 'compound': -0.985}\n",
      "{'neg': 0.056, 'neu': 0.637, 'pos': 0.307, 'compound': 0.9813}\n"
     ]
    }
   ],
   "source": [
    "sid = SentimentIntensityAnalyzer()\n",
    "\n",
    "print(sid.polarity_scores(negative_opinion))\n",
    "print(sid.polarity_scores(positive_opinion))"
   ]
  },
  {
   "attachments": {},
   "cell_type": "markdown",
   "metadata": {},
   "source": [
    "Before adding explicit words:\n",
    "{'Happy': 0.37, 'Angry': 0.05, 'Surprise': 0.21, 'Sad': 0.0, 'Fear': 0.37}\n",
    "{'Happy': 0.07, 'Angry': 0.15, 'Surprise': 0.17, 'Sad': 0.2, 'Fear': 0.4}\n",
    "\n",
    "After adding explicit words:\n",
    "{'Happy': 0.35, 'Angry': 0.1, 'Surprise': 0.2, 'Sad': 0.0, 'Fear': 0.35}\n",
    "{'Happy': 0.14, 'Angry': 0.14, 'Surprise': 0.16, 'Sad': 0.19, 'Fear': 0.37}"
   ]
  },
  {
   "cell_type": "code",
   "execution_count": 24,
   "metadata": {},
   "outputs": [
    {
     "name": "stdout",
     "output_type": "stream",
     "text": [
      "{'Happy': 0.35, 'Angry': 0.1, 'Surprise': 0.2, 'Sad': 0.0, 'Fear': 0.35}\n",
      "{'Happy': 0.14, 'Angry': 0.14, 'Surprise': 0.16, 'Sad': 0.19, 'Fear': 0.37}\n"
     ]
    }
   ],
   "source": [
    "import text2emotion as te\n",
    "\n",
    "# emoji 1.6.3\n",
    "print(te.get_emotion(positive_opinion))\n",
    "print(te.get_emotion(negative_opinion))"
   ]
  }
 ],
 "metadata": {
  "kernelspec": {
   "display_name": "Python 3",
   "language": "python",
   "name": "python3"
  },
  "language_info": {
   "codemirror_mode": {
    "name": "ipython",
    "version": 3
   },
   "file_extension": ".py",
   "mimetype": "text/x-python",
   "name": "python",
   "nbconvert_exporter": "python",
   "pygments_lexer": "ipython3",
   "version": "3.10.9"
  },
  "orig_nbformat": 4
 },
 "nbformat": 4,
 "nbformat_minor": 2
}
