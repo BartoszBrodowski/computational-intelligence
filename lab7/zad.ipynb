{
 "cells": [
  {
   "cell_type": "code",
   "execution_count": 250,
   "id": "5e0e49d1-543a-4c12-912c-140b2e43bd13",
   "metadata": {
    "tags": []
   },
   "outputs": [
    {
     "name": "stdout",
     "output_type": "stream",
     "text": [
      "(128, 128, 3)\n"
     ]
    },
    {
     "data": {
      "image/png": "[encoded data removed]",
      "text/plain": [
       "<Figure size 640x480 with 1 Axes>"
      ]
     },
     "metadata": {},
     "output_type": "display_data"
    }
   ],
   "source": [
    "import numpy as np\n",
    "from matplotlib import pyplot as plt\n",
    "\n",
    "# tworzymy tablice o wymiarach 128x128x3 (3 kanaly to RGB)\n",
    "# uzupelnioną zerami = kolor czarny\n",
    "data = np.zeros((128, 128, 3), dtype=np.uint8)\n",
    "\n",
    "\n",
    "# chcemy zeby obrazek byl czarnobialy,\n",
    "# wiec wszystkie trzy kanaly rgb uzupelniamy tymi samymi liczbami\n",
    "# napiszmy do tego funkcje\n",
    "def draw(img, x, y, color):\n",
    "    img[x, y] = [color, color, color]\n",
    "\n",
    "\n",
    "# zamalowanie 4 pikseli w lewym górnym rogu\n",
    "draw(data, 5, 5, 100)\n",
    "draw(data, 6, 6, 100)\n",
    "draw(data, 5, 6, 255)\n",
    "draw(data, 6, 5, 255)\n",
    "\n",
    "draw(data, 1, 1, 222)\n",
    "\n",
    "# rysowanie kilku figur na obrazku\n",
    "for i in range(128):\n",
    "    for j in range(128):\n",
    "        if (i-64)**2 + (j-64)**2 < 900:\n",
    "            draw(data, i, j, 200)\n",
    "        elif i > 100 and j > 100:\n",
    "            draw(data, i, j, 255)\n",
    "        elif (i-15)**2 + (j-110)**2 < 25:\n",
    "            draw(data, i, j, 150)\n",
    "        elif (i-15)**2 + (j-110)**2 == 25 or (i-15)**2 + (j-110)**2 == 26:\n",
    "            draw(data, i, j, 255)\n",
    "\n",
    "# konwersja macierzy na obrazek i wyświetlenie\n",
    "print(data.shape)\n",
    "plt.imshow(data, interpolation='nearest')\n",
    "plt.show()\n"
   ]
  },
  {
   "attachments": {},
   "cell_type": "markdown",
   "id": "ec608e1d",
   "metadata": {},
   "source": [
    "### We define out kernel (this one is a vertical kernel)"
   ]
  },
  {
   "cell_type": "code",
   "execution_count": 178,
   "id": "d4e7e31a-c569-4ef6-9c26-c15b583131dc",
   "metadata": {
    "tags": []
   },
   "outputs": [],
   "source": [
    "kernel = np.array([[1, 0, -1], [1, 0, -1], [1, 0, -1]])"
   ]
  },
  {
   "attachments": {},
   "cell_type": "markdown",
   "id": "e432eab2",
   "metadata": {},
   "source": [
    "### Function to multiply minors with the kernel"
   ]
  },
  {
   "cell_type": "code",
   "execution_count": 253,
   "id": "daab8d52-75b3-400e-9b32-dbfa84c9c263",
   "metadata": {
    "tags": []
   },
   "outputs": [],
   "source": [
    "def multiply_minor(minor,kernel):\n",
    "    result = np.uint8(0)\n",
    "    for y in range(3):\n",
    "        for x in range(3):\n",
    "            result += minor[y][x] * kernel[y][x]\n",
    "    return result"
   ]
  },
  {
   "cell_type": "markdown",
   "id": "b5405ef5",
   "metadata": {},
   "source": []
  },
  {
   "cell_type": "code",
   "execution_count": 254,
   "id": "5a25ec3e-ea7e-4add-b7c2-4e0609be39f0",
   "metadata": {
    "tags": []
   },
   "outputs": [],
   "source": [
    "def minorize(matrix):\n",
    "    minors = []\n",
    "    for i in range(matrix.shape[0] - 2):\n",
    "        for j in range(matrix.shape[1] - 2):\n",
    "            submatrix = matrix[i:i+3, j:j+3]\n",
    "            minors.append(submatrix)\n",
    "    return minors"
   ]
  },
  {
   "cell_type": "code",
   "execution_count": 255,
   "id": "92f495cd-4291-4a24-9a25-ff0ed0b2a29b",
   "metadata": {},
   "outputs": [],
   "source": [
    "result = [[],[],[]]\n",
    "for z in range(3):\n",
    "    result_layer = []\n",
    "    matrix = data[:,:,z]\n",
    "    minors = []\n",
    "    minors = minorize(matrix)\n",
    "    for minor in minors:\n",
    "        result_layer.append(multiply_minor(minor,kernel))\n",
    "    result_layer = np.array(result_layer)\n",
    "    chunks = result_layer.reshape(-1,126)\n",
    "    result[z].append(chunks)"
   ]
  },
  {
   "cell_type": "code",
   "execution_count": 256,
   "id": "9374f7a2-9251-4e09-bacf-a0f3330807bc",
   "metadata": {
    "tags": []
   },
   "outputs": [],
   "source": [
    "result = np.transpose(np.squeeze(result),(1,2,0))"
   ]
  },
  {
   "attachments": {},
   "cell_type": "markdown",
   "id": "0b37aeb6",
   "metadata": {},
   "source": [
    "### Show the result as an image"
   ]
  },
  {
   "cell_type": "code",
   "execution_count": 257,
   "id": "3776ee00-4087-4050-9620-16a15cfcd859",
   "metadata": {},
   "outputs": [
    {
     "name": "stderr",
     "output_type": "stream",
     "text": [
      "Clipping input data to the valid range for imshow with RGB data ([0..1] for floats or [0..255] for integers).\n"
     ]
    },
    {
     "data": {
      "image/png": "[encoded data removed]",
      "text/plain": [
       "<Figure size 640x480 with 1 Axes>"
      ]
     },
     "metadata": {},
     "output_type": "display_data"
    }
   ],
   "source": [
    "plt.imshow(result, interpolation='nearest')\n",
    "plt.show()"
   ]
  },
  {
   "cell_type": "code",
   "execution_count": null,
   "id": "40603862-ef09-4525-8dae-58cb644acfa8",
   "metadata": {},
   "outputs": [],
   "source": []
  }
 ],
 "metadata": {
  "kernelspec": {
   "display_name": "Python 3 (ipykernel)",
   "language": "python",
   "name": "python3"
  },
  "language_info": {
   "codemirror_mode": {
    "name": "ipython",
    "version": 3
   },
   "file_extension": ".py",
   "mimetype": "text/x-python",
   "name": "python",
   "nbconvert_exporter": "python",
   "pygments_lexer": "ipython3",
   "version": "3.10.9"
  }
 },
 "nbformat": 4,
 "nbformat_minor": 5
}
