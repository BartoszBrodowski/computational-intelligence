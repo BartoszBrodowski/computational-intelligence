{
 "cells": [
  {
   "attachments": {},
   "cell_type": "markdown",
   "metadata": {},
   "source": [
    "## Needed imports"
   ]
  },
  {
   "cell_type": "code",
   "execution_count": 2,
   "metadata": {},
   "outputs": [],
   "source": [
    "import pygad\n",
    "import numpy\n",
    "import time\n",
    "import math\n"
   ]
  },
  {
   "attachments": {},
   "cell_type": "markdown",
   "metadata": {},
   "source": [
    "## Setup initial values"
   ]
  },
  {
   "cell_type": "code",
   "execution_count": 5,
   "metadata": {},
   "outputs": [
    {
     "name": "stdout",
     "output_type": "stream",
     "text": [
      "[0.0, 0.01, 0.02, 0.03, 0.04, 0.05, 0.06, 0.07, 0.08, 0.09, 0.1, 0.11, 0.12, 0.13, 0.14, 0.15, 0.16, 0.17, 0.18, 0.19, 0.2, 0.21, 0.22, 0.23, 0.24, 0.25, 0.26, 0.27, 0.28, 0.29, 0.3, 0.31, 0.32, 0.33, 0.34, 0.35000000000000003, 0.36, 0.37, 0.38, 0.39, 0.4, 0.41000000000000003, 0.42, 0.43, 0.44, 0.45, 0.46, 0.47000000000000003, 0.48, 0.49, 0.5, 0.51, 0.52, 0.53, 0.54, 0.55, 0.56, 0.5700000000000001, 0.58, 0.59, 0.6, 0.61, 0.62, 0.63, 0.64, 0.65, 0.66, 0.67, 0.68, 0.6900000000000001, 0.7000000000000001, 0.71, 0.72, 0.73, 0.74, 0.75, 0.76, 0.77, 0.78, 0.79, 0.8, 0.81, 0.8200000000000001, 0.8300000000000001, 0.84, 0.85, 0.86, 0.87, 0.88, 0.89, 0.9, 0.91, 0.92, 0.93, 0.9400000000000001, 0.9500000000000001, 0.96, 0.97, 0.98, 0.99]\n"
     ]
    }
   ],
   "source": [
    "S = [\"1\", \"2\", \"3\", \"4\", \"5\", \"6\"]\n",
    "#definiujemy parametry chromosomu\n",
    "#geny to liczby: 0 lub 1\n",
    "gene_space = numpy.arange(0, 1, 0.01).tolist()\n",
    "print(gene_space)"
   ]
  },
  {
   "attachments": {},
   "cell_type": "markdown",
   "metadata": {},
   "source": [
    "## Function to calculate endurance"
   ]
  },
  {
   "cell_type": "code",
   "execution_count": 4,
   "metadata": {},
   "outputs": [],
   "source": [
    "def endurance(x, y, z, u, v, w):return math.exp(-2*(y-math.sin(x))**2)+math.sin(z*u)+math.cos(v*w)"
   ]
  },
  {
   "attachments": {},
   "cell_type": "markdown",
   "metadata": {},
   "source": [
    "## Define fitness function"
   ]
  },
  {
   "cell_type": "code",
   "execution_count": 12,
   "metadata": {},
   "outputs": [],
   "source": [
    "#definiujemy funkcję fitness\n",
    "def fitness_func(solution, solution_idx):\n",
    "    fitness = endurance(solution[0], solution[1], solution[2], solution[3], solution[4], solution[5])\n",
    "    return fitness"
   ]
  },
  {
   "attachments": {},
   "cell_type": "markdown",
   "metadata": {},
   "source": [
    "## Define all values required in pygad.GA function"
   ]
  },
  {
   "cell_type": "code",
   "execution_count": 13,
   "metadata": {},
   "outputs": [],
   "source": [
    "fitness_function = fitness_func\n",
    "#ile chromsomów w populacji\n",
    "#ile genow ma chromosom\n",
    "sol_per_pop = 10\n",
    "num_genes = len(S)\n",
    "#ile wylaniamy rodzicow do \"rozmanazania\" (okolo 50% populacji)\n",
    "#ile pokolen\n",
    "#ilu rodzicow zachowac (kilka procent)\n",
    "num_parents_mating = 5\n",
    "num_generations = 30\n",
    "keep_parents = 2\n",
    "#jaki typ selekcji rodzicow?\n",
    "#sss = steady, rws=roulette, rank = rankingowa, tournament = turniejowa\n",
    "parent_selection_type = \"sss\"\n",
    "#w il =u punktach robic krzyzowanie?\n",
    "crossover_type = \"single_point\"\n",
    "#mutacja ma dzialac na ilu procent genow?\n",
    "#trzeba pamietac ile genow ma chromosom\n",
    "mutation_type = \"random\"\n",
    "mutation_percent_genes = 17"
   ]
  },
  {
   "attachments": {},
   "cell_type": "markdown",
   "metadata": {},
   "source": [
    "## Run the genetic algorithm AI training"
   ]
  },
  {
   "cell_type": "code",
   "execution_count": 14,
   "metadata": {},
   "outputs": [
    {
     "name": "stdout",
     "output_type": "stream",
     "text": [
      "hello\n",
      "30\n"
     ]
    }
   ],
   "source": [
    "ga_instance = pygad.GA(gene_space=gene_space,\n",
    "                       num_generations=num_generations,\n",
    "                       num_parents_mating=num_parents_mating,\n",
    "                       fitness_func=fitness_function,\n",
    "                       sol_per_pop=sol_per_pop,\n",
    "                       num_genes=num_genes,\n",
    "                       parent_selection_type=parent_selection_type,\n",
    "                       keep_parents=keep_parents,\n",
    "                       crossover_type=crossover_type,\n",
    "                       mutation_type=mutation_type,\n",
    "                       mutation_percent_genes=mutation_percent_genes)\n",
    "\n",
    "#uruchomienie algorytmu\n",
    "start = time.time()\n",
    "print(\"hello\")\n",
    "\n",
    "ga_instance.run()\n",
    "print(ga_instance.generations_completed)"
   ]
  },
  {
   "attachments": {},
   "cell_type": "markdown",
   "metadata": {},
   "source": [
    "# Final results"
   ]
  },
  {
   "cell_type": "code",
   "execution_count": 15,
   "metadata": {},
   "outputs": [
    {
     "name": "stdout",
     "output_type": "stream",
     "text": [
      "1.9966332912445068\n",
      "[0.75 0.69 0.99 0.98 0.36 0.2 ]\n",
      "['1', '2', '3', '4', '5', '6']\n",
      "Parameters of the best solution : [0.75 0.69 0.99 0.98 0.36 0.2 ]\n",
      "Fitness value of the best solution = 2.8222680654032994\n"
     ]
    },
    {
     "data": {
      "image/png": "[encoded data removed]",
      "text/plain": [
       "<Figure size 432x288 with 1 Axes>"
      ]
     },
     "metadata": {},
     "output_type": "display_data"
    },
    {
     "data": {
      "image/png": "[encoded data removed]",
      "text/plain": [
       "<Figure size 432x288 with 1 Axes>"
      ]
     },
     "execution_count": 15,
     "metadata": {},
     "output_type": "execute_result"
    }
   ],
   "source": [
    "end = time.time()\n",
    "print(end - start)\n",
    "\n",
    "#podsumowanie: najlepsze znalezione rozwiazanie (chromosom+ocena)\n",
    "solution, solution_fitness, solution_idx = ga_instance.best_solution()\n",
    "print(solution)\n",
    "print(S)\n",
    "print(\"Parameters of the best solution : {solution}\".format(solution=solution))\n",
    "print(\"Fitness value of the best solution = {solution_fitness}\".format(solution_fitness=solution_fitness))\n",
    "\n",
    "#tutaj dodatkowo wyswietlamy sume wskazana przez jedynki\n",
    "# THESE LINES BELOW BUG THE CODE\n",
    "# prediction = numpy.sum(S*solution)\n",
    "# print(\"Predicted output based on the best solution : {prediction}\".format(prediction=prediction))\n",
    "\n",
    "#wyswietlenie wykresu: jak zmieniala sie ocena na przestrzeni pokolen\n",
    "ga_instance.plot_fitness()"
   ]
  },
  {
   "attachments": {},
   "cell_type": "markdown",
   "metadata": {},
   "source": [
    "### Final time results\n",
    "    1. 0.04699\n",
    "    2. 0.05299\n",
    "    3. 0.03812\n",
    "    4. 0.04267\n",
    "    5. 0.04899\n",
    "    6. 0.04940\n",
    "    7. 0.04600\n",
    "    8. 0.04499\n",
    "    9. 0.03883\n",
    "    10. 0.04499\n",
    "\n",
    "Everage runtime: 0.045397s"
   ]
  }
 ],
 "metadata": {
  "kernelspec": {
   "display_name": "Python 3",
   "language": "python",
   "name": "python3"
  },
  "language_info": {
   "codemirror_mode": {
    "name": "ipython",
    "version": 3
   },
   "file_extension": ".py",
   "mimetype": "text/x-python",
   "name": "python",
   "nbconvert_exporter": "python",
   "pygments_lexer": "ipython3",
   "version": "3.6.9 (default, Nov 25 2022, 14:10:45) \n[GCC 8.4.0]"
  },
  "orig_nbformat": 4,
  "vscode": {
   "interpreter": {
    "hash": "31f2aee4e71d21fbe5cf8b01ff0e069b9275f58929596ceb00d14d90e3e16cd6"
   }
  }
 },
 "nbformat": 4,
 "nbformat_minor": 2
}
