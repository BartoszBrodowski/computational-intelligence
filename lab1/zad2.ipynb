{
 "cells": [
  {
   "cell_type": "code",
   "execution_count": null,
   "metadata": {},
   "outputs": [],
   "source": [
    "import pandas as pd\n",
    "from matplotlib import pyplot as plt\n"
   ]
  },
  {
   "cell_type": "code",
   "execution_count": null,
   "metadata": {},
   "outputs": [],
   "source": [
    "\n",
    "miasta_csv = \"/home/LABPK/bbrodowski/ROK2/4semestr/AI/lab1/miasta.csv\"\n",
    " \n",
    "# Data of year 2010\n",
    "data = {\n",
    "    'Rok': [2010],\n",
    "    'Gdansk': [460],\n",
    "    'Poznan': [555],\n",
    "    'Szczecin': [405]\n",
    "}\n",
    " \n",
    "# Make data frame of above data\n",
    "df = pd.DataFrame(data)\n"
   ]
  },
  {
   "cell_type": "code",
   "execution_count": null,
   "metadata": {},
   "outputs": [],
   "source": [
    "\n",
    "# Add row to csv file\n",
    "\n",
    "# df.to_csv('/home/LABPK/bbrodowski/ROK2/4semestr/AI/lab1/miasta.csv', mode='a', index=False, header=False, columns=['Rok', 'Gdansk', 'Poznan', 'Szczecin'])\n",
    "\n",
    "# Dla Gdanska\n",
    "plt.rcParams[\"figure.figsize\"] = [7.00, 3.50]\n",
    "plt.rcParams[\"figure.autolayout\"] = True\n",
    "columns = [\"Gdansk\", \"Rok\", \"Poznan\", \"Szczecin\"]\n",
    "df2 = pd.read_csv(r'C:\\Users\\Admin\\Desktop\\Programowanie\\2Rok\\4Semestr\\inteligencja_obliczeniowa\\lab1\\miasta.csv', usecols=columns)\n",
    "print(\"Contents in csv file:\", df2)\n",
    "plt.plot(df2.Rok, df2.Gdansk)\n",
    "plt.plot(df2.Rok, df2.Poznan)\n",
    "plt.plot(df2.Rok, df2.Szczecin)\n",
    "plt.legend([\"Gdansk\", \"Poznan\", \"Szczecin\"], loc=\"upper left\")\n",
    "\n",
    "# plt.show()\n",
    "\n",
    "# columns_many = ['Rok', 'Gdansk', 'Poznan', 'Szczecin']\n",
    "# df_many = pd.read_csv(\"/home/LABPK/bbrodowski/ROK2/4semestr/AI/lab1/miasta.csv\", usecols=columns_many)\n",
    "# df_many.plot(df_many.Rok, df_many.Gdansk, df_many.Poznan, df_many.Szczecin)\n",
    "    \n",
    "plt.show()\n"
   ]
  }
 ],
 "metadata": {
  "language_info": {
   "name": "python"
  },
  "orig_nbformat": 4
 },
 "nbformat": 4,
 "nbformat_minor": 2
}
