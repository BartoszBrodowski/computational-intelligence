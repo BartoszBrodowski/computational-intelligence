{
 "cells": [
  {
   "cell_type": "code",
   "execution_count": 11,
   "metadata": {},
   "outputs": [],
   "source": [
    "import pygad\n",
    "import numpy as np\n",
    "import gym\n",
    "import matplotlib.pyplot as plt\n",
    "\n",
    "env = gym.make(\"LunarLander-v2\", render_mode=\"rgb_array\")\n",
    "env.reset(seed=42)\n",
    "\n",
    "def fitness_func(solution, sol_idx):\n",
    "    global env\n",
    "\n",
    "    fitness = 0\n",
    "    observation, info = env.reset(seed=42)\n",
    "\n",
    "    for i in range(solution.shape[0]):\n",
    "        action = solution[i]\n",
    "        observation, reward, terminated, truncated, info = env.step(action)\n",
    "\n",
    "        fitness += reward\n",
    "\n",
    "        if terminated or truncated:\n",
    "            observation, info = env.reset(seed=42)\n",
    "    return fitness\n"
   ]
  },
  {
   "cell_type": "code",
   "execution_count": 12,
   "metadata": {},
   "outputs": [],
   "source": [
    "# parameters of the GA\n",
    "num_generations = 100\n",
    "num_parents_mating = 4\n",
    "sol_per_pop = 30\n",
    "num_genes = 250\n",
    "gene_space = np.array([0, 1, 2, 3])\n",
    "gene_type = int\n",
    "init_range_low = 0\n",
    "init_range_high = 4\n",
    "parent_selection_type = \"sss\"\n",
    "keep_parents = 3\n",
    "crossover_type = \"single_point\"\n",
    "mutation_type = \"random\"\n",
    "mutation_percent_genes = 10\n",
    "\n",
    "\n",
    "# Creating an instance of the GA class inside the ga module. Some parameters are initialized within the constructor.\n",
    "ga_instance = pygad.GA(num_generations=num_generations,\n",
    "                          num_parents_mating=num_parents_mating,\n",
    "                            fitness_func=fitness_func,\n",
    "                            sol_per_pop=sol_per_pop,\n",
    "                            num_genes=num_genes,\n",
    "                            gene_space=gene_space,\n",
    "                            gene_type=gene_type,\n",
    "                            init_range_low=init_range_low,\n",
    "                            init_range_high=init_range_high,\n",
    "                            parent_selection_type=parent_selection_type,\n",
    "                            keep_parents=keep_parents,\n",
    "                            crossover_type=crossover_type,\n",
    "                            mutation_type=mutation_type,\n",
    "                            mutation_percent_genes=mutation_percent_genes)\n",
    "\n",
    "# Running the GA to optimize the parameters of the function.\n",
    "ga_instance.run()\n"
   ]
  },
  {
   "cell_type": "code",
   "execution_count": 13,
   "metadata": {},
   "outputs": [
    {
     "name": "stdout",
     "output_type": "stream",
     "text": [
      "Parameters of the best solution : [0 3 2 0 0 1 2 1 1 0 0 3 2 1 2 2 2 0 1 0 0 1 3 1 0 0 3 2 0 0 3 2 1 2 2 2 1\n",
      " 1 2 2 0 3 2 0 0 2 0 2 1 1 2 1 3 1 0 0 0 1 3 2 1 1 2 2 2 2 3 0 1 3 0 1 2 3\n",
      " 2 3 0 3 0 2 3 2 3 0 0 2 0 3 0 3 1 1 2 1 3 1 1 2 1 1 2 1 2 0 3 0 1 0 0 0 0\n",
      " 1 3 1 2 0 0 2 2 1 1 2 0 1 2 3 0 2 3 3 0 0 0 1 1 2 0 0 0 2 2 2 2 0 2 3 1 2\n",
      " 0 2 0 2 1 1 0 2 2 3 0 1 2 2 0 1 0 1 3 1 2 3 1 3 3 0 0 1 3 0 0 3 1 0 3 1 0\n",
      " 3 2 2 0 3 0 0 0 3 3 3 0 2 1 3 0 3 1 3 0 1 2 2 1 0 1 3 0 3 1 3 2 3 1 0 0 2\n",
      " 2 3 2 1 2 2 3 3 1 1 3 0 1 3 1 3 0 1 2 1 0 0 3 2 0 2 2 3]\n",
      "Fitness value of the best solution = 149.04568881367712\n",
      "Index of the best solution : 0\n"
     ]
    },
    {
     "data": {
      "image/png": "[encoded data removed]",
      "text/plain": [
       "<Figure size 640x480 with 1 Axes>"
      ]
     },
     "metadata": {},
     "output_type": "display_data"
    }
   ],
   "source": [
    "# After the generations complete, some plots are showed that summarize how the outputs/fitenss values evolve over generations.\n",
    "solution, solution_fitness, solution_idx = ga_instance.best_solution()\n",
    "print(\"Parameters of the best solution : {solution}\".format(solution=solution))\n",
    "print(\"Fitness value of the best solution = {solution_fitness}\".format(solution_fitness=solution_fitness))\n",
    "print(\"Index of the best solution : {solution_idx}\".format(solution_idx=solution_idx))\n",
    "ga_instance.plot_fitness()\n",
    "\n",
    "plt.show()"
   ]
  },
  {
   "cell_type": "code",
   "execution_count": 14,
   "metadata": {},
   "outputs": [
    {
     "name": "stdout",
     "output_type": "stream",
     "text": [
      "[0 3 2 0 0 1 2 1 1 0 0 3 2 1 2 2 2 0 1 0 0 1 3 1 0 0 3 2 0 0 3 2 1 2 2 2 1\n",
      " 1 2 2 0 3 2 0 0 2 0 2 1 1 2 1 3 1 0 0 0 1 3 2 1 1 2 2 2 2 3 0 1 3 0 1 2 3\n",
      " 2 3 0 3 0 2 3 2 3 0 0 2 0 3 0 3 1 1 2 1 3 1 1 2 1 1 2 1 2 0 3 0 1 0 0 0 0\n",
      " 1 3 1 2 0 0 2 2 1 1 2 0 1 2 3 0 2 3 3 0 0 0 1 1 2 0 0 0 2 2 2 2 0 2 3 1 2\n",
      " 0 2 0 2 1 1 0 2 2 3 0 1 2 2 0 1 0 1 3 1 2 3 1 3 3 0 0 1 3 0 0 3 1 0 3 1 0\n",
      " 3 2 2 0 3 0 0 0 3 3 3 0 2 1 3 0 3 1 3 0 1 2 2 1 0 1 3 0 3 1 3 2 3 1 0 0 2\n",
      " 2 3 2 1 2 2 3 3 1 1 3 0 1 3 1 3 0 1 2 1 0 0 3 2 0 2 2 3]\n"
     ]
    }
   ],
   "source": [
    "env = gym.make(\"LunarLander-v2\", render_mode=\"human\")\n",
    "env.reset(seed=42)\n",
    "\n",
    "for i in range(len(solution)):\n",
    "    action = solution[i]\n",
    "    observation, reward, terminated, truncated, info = env.step(action)\n",
    "    if terminated or truncated:\n",
    "        observation, info = env.reset(seed=42)\n",
    "        break\n",
    "env.close()\n",
    "print(solution)"
   ]
  }
 ],
 "metadata": {
  "kernelspec": {
   "display_name": "venv",
   "language": "python",
   "name": "python3"
  },
  "language_info": {
   "codemirror_mode": {
    "name": "ipython",
    "version": 3
   },
   "file_extension": ".py",
   "mimetype": "text/x-python",
   "name": "python",
   "nbconvert_exporter": "python",
   "pygments_lexer": "ipython3",
   "version": "3.11.2"
  },
  "orig_nbformat": 4
 },
 "nbformat": 4,
 "nbformat_minor": 2
}
