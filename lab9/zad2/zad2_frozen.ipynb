{
 "cells": [
  {
   "cell_type": "code",
   "execution_count": 19,
   "metadata": {},
   "outputs": [],
   "source": [
    "import pygad\n",
    "import numpy as np\n",
    "import gym\n",
    "import matplotlib.pyplot as plt\n",
    "import time"
   ]
  },
  {
   "cell_type": "code",
   "execution_count": 20,
   "metadata": {},
   "outputs": [],
   "source": [
    "env = gym.make(\"FrozenLake8x8-v1\", render_mode=\"rgb_array\", is_slippery=False)\n",
    "env.reset(seed=42)\n",
    "\n",
    "def fitness_func(solution, sol_idx):\n",
    "    global env\n",
    "    env.reset(seed=42)\n",
    "\n",
    "    position = (0,0)\n",
    "    # 0 is left, 1 is down, 2 is right, 3 is up\n",
    "    steps = [(0,-1), (1, 0), (0, 1), (-1, 0)]\n",
    "    max_distance = 0\n",
    "    visited = set()\n",
    "    fitness = 0\n",
    "\n",
    "    for i in range(len(solution)):\n",
    "        action = solution[i]\n",
    "        new_position = (position[0] + steps[action][0], position[1] + steps[action][1])\n",
    "        # If on board\n",
    "        if new_position[0] < 0 or new_position[0] > 7 or new_position[1] < 0 or new_position[1] > 7:\n",
    "            fitness -= 1\n",
    "            continue\n",
    "        # Hole\n",
    "        if env.desc[new_position[0], new_position[1]] == b'H':\n",
    "            fitness -= 1\n",
    "            break\n",
    "        # Present\n",
    "        if env.desc[new_position[0], new_position[1]] == b'G':\n",
    "            fitness += 25\n",
    "            break\n",
    "        # Minus fitness for place we've been in\n",
    "        if new_position in visited:\n",
    "            fitness -= 2\n",
    "            continue\n",
    "        visited.add(new_position)\n",
    "        position = new_position\n",
    "    return fitness"
   ]
  },
  {
   "cell_type": "code",
   "execution_count": 21,
   "metadata": {},
   "outputs": [],
   "source": [
    "fitness_function = fitness_func\n",
    "num_generations = 500\n",
    "num_parents_mating = 25\n",
    "sol_per_pop = 100\n",
    "num_genes = 25\n",
    "gene_space = [0, 1, 2, 3]\n",
    "gene_type = int\n",
    "init_range_low = 0\n",
    "init_range_high = 3\n",
    "parent_selection_type = \"sss\"\n",
    "keep_parents = 13\n",
    "crossover_type = \"single_point\"\n",
    "mutation_type = \"adaptive\"\n",
    "mutation_probability = (0.25, 0.15)\n",
    "\n",
    "last_fitness = 0"
   ]
  },
  {
   "cell_type": "code",
   "execution_count": 22,
   "metadata": {},
   "outputs": [],
   "source": [
    "ga_instance = pygad.GA(num_generations=num_generations,\n",
    "                          num_parents_mating=num_parents_mating,\n",
    "                            fitness_func=fitness_function,\n",
    "                            sol_per_pop=sol_per_pop,\n",
    "                            num_genes=num_genes,\n",
    "                            gene_space=gene_space,\n",
    "                            gene_type=gene_type,\n",
    "                            init_range_low=init_range_low,\n",
    "                            init_range_high=init_range_high,\n",
    "                            parent_selection_type=parent_selection_type,\n",
    "                            keep_parents=keep_parents,\n",
    "                            crossover_type=crossover_type,\n",
    "                            mutation_type=mutation_type,\n",
    "                            mutation_probability=mutation_probability,\n",
    "                            )\n",
    "\n",
    "ga_instance.run()"
   ]
  },
  {
   "cell_type": "code",
   "execution_count": 23,
   "metadata": {},
   "outputs": [
    {
     "name": "stdout",
     "output_type": "stream",
     "text": [
      "Best solution genes: [2 2 2 2 2 1 2 2 1 1 1 1 1 1 3 2 3 0 3 2 0 1 1 2 3]\n",
      "Value of the best solution = 25\n"
     ]
    },
    {
     "data": {
      "image/png": "[encoded data removed]",
      "text/plain": [
       "<Figure size 640x480 with 1 Axes>"
      ]
     },
     "metadata": {},
     "output_type": "display_data"
    }
   ],
   "source": [
    "solution, solution_fitness, solution_idx = ga_instance.best_solution()\n",
    "print(\"Best solution genes: {solution}\".format(solution=solution))\n",
    "print(\"Value of the best solution = {solution_fitness}\".format(solution_fitness=solution_fitness))\n",
    "ga_instance.plot_fitness()\n",
    "\n",
    "plt.show()"
   ]
  },
  {
   "cell_type": "code",
   "execution_count": 25,
   "metadata": {},
   "outputs": [
    {
     "name": "stdout",
     "output_type": "stream",
     "text": [
      "[2 2 2 2 2 1 2 2 1 1 1 1 1 1 3 2 3 0 3 2 0 1 1 2 3]\n"
     ]
    }
   ],
   "source": [
    "env = gym.make(\"FrozenLake8x8-v1\", render_mode=\"human\", is_slippery=False)\n",
    "env.reset(seed=42)\n",
    "\n",
    "for i in range(len(solution)):\n",
    "    action = solution[i]\n",
    "    observation, reward, terminated, truncated, info = env.step(action)\n",
    "    if terminated or truncated:\n",
    "        observation, info = env.reset(seed=42)\n",
    "        break\n",
    "env.close()\n",
    "print(solution)\n"
   ]
  }
 ],
 "metadata": {
  "kernelspec": {
   "display_name": "venv",
   "language": "python",
   "name": "python3"
  },
  "language_info": {
   "codemirror_mode": {
    "name": "ipython",
    "version": 3
   },
   "file_extension": ".py",
   "mimetype": "text/x-python",
   "name": "python",
   "nbconvert_exporter": "python",
   "pygments_lexer": "ipython3",
   "version": "3.11.2"
  },
  "orig_nbformat": 4
 },
 "nbformat": 4,
 "nbformat_minor": 2
}
