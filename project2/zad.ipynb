{
 "cells": [
  {
   "attachments": {},
   "cell_type": "markdown",
   "metadata": {},
   "source": [
    "# Project \\#2\n",
    "\n",
    "This project is about processing a data set and testing how differently processed datasets fit the neural network.\n",
    "<br>\n",
    "My choice is the [Wine Quality Dataset](https://www.kaggle.com/datasets/rajyellow46/wine-quality?resource=download)"
   ]
  },
  {
   "attachments": {},
   "cell_type": "markdown",
   "metadata": {},
   "source": [
    "<br>"
   ]
  },
  {
   "attachments": {},
   "cell_type": "markdown",
   "metadata": {},
   "source": [
    "### Cleaning the dataset\n",
    "\n",
    "The Dataset contains data about 6497 wines, however, some of the wines have missing statistics. Some of the columns contain missing cells. The most that one column is missing is 10. If every missing cell deleted equaled to one wine deleted, it would remove maximum of 38 rows. \n",
    "\n",
    "It's not a lot considering the fact that we have data for 6.5k wines, but I wanted to use all the data I have. \n",
    "\n",
    "I decided to fill the missing cells with the mean of the column. The mean is calculated only from the cells that are not missing. The mean is calculated for each column separately.\n",
    "\n",
    "The dataset contains columns like: acidity, sugar, sulfur dioxides, ph, density and of course, quality."
   ]
  },
  {
   "attachments": {},
   "cell_type": "markdown",
   "metadata": {},
   "source": [
    "### Reading the CSV file\n",
    "\n",
    "Im using the pandas package to read and process the CSV file"
   ]
  },
  {
   "cell_type": "code",
   "execution_count": 84,
   "metadata": {},
   "outputs": [],
   "source": [
    "import numpy as np\n",
    "import pandas as pd\n",
    "\n",
    "# File path\n",
    "file_path = 'C:\\\\Users\\\\Admin\\\\Desktop\\\\Programowanie\\\\2Rok\\\\4Semestr\\\\inteligencja_obliczeniowa\\\\project2\\\\winequalityN.csv'\n",
    "\n",
    "wine_dataset = pd.read_csv(file_path)"
   ]
  },
  {
   "attachments": {},
   "cell_type": "markdown",
   "metadata": {},
   "source": [
    "As shown in the code, there are 38 cells missing in the dataset."
   ]
  },
  {
   "cell_type": "code",
   "execution_count": 85,
   "metadata": {},
   "outputs": [
    {
     "name": "stdout",
     "output_type": "stream",
     "text": [
      "type                     0\n",
      "fixed acidity           10\n",
      "volatile acidity         8\n",
      "citric acid              3\n",
      "residual sugar           2\n",
      "chlorides                2\n",
      "free sulfur dioxide      0\n",
      "total sulfur dioxide     0\n",
      "density                  0\n",
      "pH                       9\n",
      "sulphates                4\n",
      "alcohol                  0\n",
      "quality                  0\n",
      "dtype: int64\n"
     ]
    }
   ],
   "source": [
    "print(wine_dataset.isnull().sum())"
   ]
  },
  {
   "attachments": {},
   "cell_type": "markdown",
   "metadata": {},
   "source": [
    "As you can see I can get every value in the column and sum the values that repeat. This enables me to check whether the mean is correct."
   ]
  },
  {
   "cell_type": "code",
   "execution_count": 86,
   "metadata": {},
   "outputs": [
    {
     "name": "stdout",
     "output_type": "stream",
     "text": [
      "6.80     354\n",
      "6.60     326\n",
      "6.40     305\n",
      "7.00     282\n",
      "6.90     279\n",
      "        ... \n",
      "3.90       1\n",
      "3.80       1\n",
      "6.45       1\n",
      "4.50       1\n",
      "12.10      1\n",
      "Name: fixed acidity, Length: 106, dtype: int64\n"
     ]
    }
   ],
   "source": [
    "print(wine_dataset[\"fixed acidity\"].value_counts())"
   ]
  },
  {
   "attachments": {},
   "cell_type": "markdown",
   "metadata": {},
   "source": [
    "## Filling missing cells\n",
    "\n",
    "I decided to fill the missing cells with the mean of the column where the missing cell belongs. I used the pandas package mean() method to get the mean of all the values in the column. Then I filled all the missing values with .fillna() method with the mean value.\n",
    "\n",
    "As shown below, all the missing cells were filled."
   ]
  },
  {
   "cell_type": "code",
   "execution_count": 87,
   "metadata": {},
   "outputs": [
    {
     "name": "stdout",
     "output_type": "stream",
     "text": [
      "type                    0\n",
      "fixed acidity           0\n",
      "volatile acidity        0\n",
      "citric acid             0\n",
      "residual sugar          0\n",
      "chlorides               0\n",
      "free sulfur dioxide     0\n",
      "total sulfur dioxide    0\n",
      "density                 0\n",
      "pH                      0\n",
      "sulphates               0\n",
      "alcohol                 0\n",
      "quality                 0\n",
      "dtype: int64\n"
     ]
    }
   ],
   "source": [
    "# Fill missing values with mean column values in the dataset (using [1:] indexing to exclude the 'type' column)\n",
    "for column in wine_dataset.columns[1:]:\n",
    "    # Mean of the given column\n",
    "    mean = wine_dataset[column].mean()\n",
    "    # Filling the missing values with the mean value of the column\n",
    "    wine_dataset[column].fillna(mean, inplace=True)\n",
    "\n",
    "print(wine_dataset.isnull().sum())"
   ]
  }
 ],
 "metadata": {
  "kernelspec": {
   "display_name": "Python 3",
   "language": "python",
   "name": "python3"
  },
  "language_info": {
   "codemirror_mode": {
    "name": "ipython",
    "version": 3
   },
   "file_extension": ".py",
   "mimetype": "text/x-python",
   "name": "python",
   "nbconvert_exporter": "python",
   "pygments_lexer": "ipython3",
   "version": "3.9.7"
  },
  "orig_nbformat": 4
 },
 "nbformat": 4,
 "nbformat_minor": 2
}
